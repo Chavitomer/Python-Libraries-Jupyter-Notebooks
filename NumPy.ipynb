{
 "cells": [
  {
   "cell_type": "markdown",
   "metadata": {},
   "source": [
    "# Data types"
   ]
  },
  {
   "cell_type": "markdown",
   "metadata": {},
   "source": [
    "NumPy supports a much greater variety of numerical types than Python does.\n",
    "\n",
    "The primitive types supported are tied closely to those in C.\n",
    "\n",
    "NumPy numerical types are instances of dtype (data-type) objects, each having unique characteristics.Once you have imported NumPy using"
   ]
  },
  {
   "cell_type": "code",
   "execution_count": 1,
   "metadata": {},
   "outputs": [],
   "source": [
    "import numpy as np"
   ]
  },
  {
   "cell_type": "markdown",
   "metadata": {},
   "source": [
    "the dtypes are available as np.bool_, np.float32, np.int8 etc."
   ]
  },
  {
   "cell_type": "markdown",
   "metadata": {},
   "source": [
    "There are advanced types also known as Structured arrays."
   ]
  },
  {
   "cell_type": "markdown",
   "metadata": {},
   "source": [
    "There are 5 basic numerical types representing:\n",
    "\n",
    "booleans (bool), integers (int), unsigned integers (uint), floating point (float) and complex. "
   ]
  },
  {
   "cell_type": "code",
   "execution_count": 2,
   "metadata": {
    "scrolled": true
   },
   "outputs": [
    {
     "name": "stdout",
     "output_type": "stream",
     "text": [
      "1.0\n",
      "1\n",
      "[1 2 3 4]\n"
     ]
    }
   ],
   "source": [
    "x=np.float32(1)\n",
    "print(x)\n",
    "\n",
    "y=np.int8(1.5)\n",
    "print(y)\n",
    "\n",
    "z=np.int_([1,2,3,4])\n",
    "print(z)"
   ]
  },
  {
   "cell_type": "markdown",
   "metadata": {},
   "source": [
    "To convert the type of array use astype() method"
   ]
  },
  {
   "cell_type": "code",
   "execution_count": 3,
   "metadata": {},
   "outputs": [
    {
     "name": "stdout",
     "output_type": "stream",
     "text": [
      "[1 2 3 4]\n",
      "int32\n"
     ]
    },
    {
     "data": {
      "text/plain": [
       "array([1., 2., 3., 4.], dtype=float16)"
      ]
     },
     "execution_count": 3,
     "metadata": {},
     "output_type": "execute_result"
    }
   ],
   "source": [
    "# z is an array of int32 type \n",
    "# int32 simply means Integer (-2147483648 to 2147483647)\n",
    "print(z)\n",
    "print(z.dtype)\n",
    "\n",
    "\n",
    "# convert it to int16\n",
    "z.astype(np.float16)"
   ]
  },
  {
   "cell_type": "markdown",
   "metadata": {},
   "source": [
    "#### Bools"
   ]
  },
  {
   "cell_type": "markdown",
   "metadata": {},
   "source": [
    "np.bool : Boolean (True or False) stored as a byte"
   ]
  },
  {
   "cell_type": "markdown",
   "metadata": {},
   "source": [
    "#### Integers"
   ]
  },
  {
   "cell_type": "markdown",
   "metadata": {},
   "source": [
    "###### Signed"
   ]
  },
  {
   "cell_type": "markdown",
   "metadata": {},
   "source": [
    "np.int8 : Byte (-128 to 127)\n",
    "\n",
    "np.int16 : Integer (-32768 to 32767)\n",
    "\n",
    "np.int32 : Integer (-2147483648 to 2147483647)\n",
    "\n",
    "np.int64 : Integer (-9223372036854775808 to 9223372036854775807)\n",
    "\n"
   ]
  },
  {
   "cell_type": "markdown",
   "metadata": {},
   "source": [
    "###### Unsigned"
   ]
  },
  {
   "cell_type": "markdown",
   "metadata": {},
   "source": [
    "np.uint8 :Unsigned integer (0 to 255)\n",
    "\n",
    "np.uint16 :Unsigned integer (0 to 65535)\n",
    "\n",
    "np.uint32 :Unsigned integer (0 to 4294967295)\n",
    "\n",
    "np.uint64 :Unsigned integer (0 to 18446744073709551615)"
   ]
  },
  {
   "cell_type": "markdown",
   "metadata": {},
   "source": [
    "#### Floats"
   ]
  },
  {
   "cell_type": "markdown",
   "metadata": {},
   "source": [
    "###### Half float"
   ]
  },
  {
   "cell_type": "markdown",
   "metadata": {},
   "source": [
    "np.half / np.float16 : Half precision float: sign bit, 5 bits exponent, 10 bits mantissa"
   ]
  },
  {
   "cell_type": "markdown",
   "metadata": {},
   "source": [
    "###### Single precision"
   ]
  },
  {
   "cell_type": "markdown",
   "metadata": {},
   "source": [
    "np.single / np.float32 : Platform-defined single precision float: typically sign bit, 8 bits exponent, 23 bits mantissa"
   ]
  },
  {
   "cell_type": "markdown",
   "metadata": {},
   "source": [
    "######  Double precision"
   ]
  },
  {
   "cell_type": "markdown",
   "metadata": {},
   "source": [
    "np.double / np.float64 / np.float_ : Platform-defined double precision float: typically sign bit, 11 bits exponent, 52 bits mantissa.\n",
    "\n",
    "Note that this matches the precision of the builtin python float."
   ]
  },
  {
   "cell_type": "markdown",
   "metadata": {},
   "source": [
    "###### Extended precision"
   ]
  },
  {
   "cell_type": "markdown",
   "metadata": {},
   "source": [
    "np.longdouble : Platform-defined extended-precision float"
   ]
  },
  {
   "cell_type": "markdown",
   "metadata": {},
   "source": [
    "####  Complex"
   ]
  },
  {
   "cell_type": "markdown",
   "metadata": {},
   "source": [
    "np.csingle / np.complex64 : Complex number, represented by two single-precision(32-bit) floats (real and imaginary components)"
   ]
  },
  {
   "cell_type": "markdown",
   "metadata": {},
   "source": [
    "np.double / np.complex128 / np.complex_ : Complex number, represented by two single-precision(64-bit) floats (real and imaginary components)\n",
    "\n",
    "Note that this matches the precision of the builtin python complex."
   ]
  },
  {
   "cell_type": "markdown",
   "metadata": {},
   "source": [
    "### Overflow errors in NumPy"
   ]
  },
  {
   "cell_type": "markdown",
   "metadata": {},
   "source": [
    "NumPy numeric types have fixed sizes. This  may cause overflow errors when a value requires more memory than available in the data type.\n",
    "\n",
    "For example, _*numpy.power*_ evaluates 100 * 10 ** 8 correctly for 64-bit integers, but gives 1874919424 (incorrect) for a 32-bit integer."
   ]
  },
  {
   "cell_type": "code",
   "execution_count": 4,
   "metadata": {},
   "outputs": [
    {
     "name": "stdout",
     "output_type": "stream",
     "text": [
      "10000000000000000\n",
      "1874919424\n"
     ]
    }
   ],
   "source": [
    "#int64 ranges to Integer (-9223372036854775808 to 9223372036854775807)\n",
    "print(np.power(100,8, dtype=np.int64))\n",
    "\n",
    "# int32 ranges to Integer (-2147483648 to 2147483647)\n",
    "print(np.power(100,8,dtype=np.int32))"
   ]
  },
  {
   "cell_type": "raw",
   "metadata": {},
   "source": [
    "Note : Unlike NumPy, the size of Python’s int is flexible. This means Python integers may expand to accommodate any integer and will not overflow."
   ]
  },
  {
   "cell_type": "markdown",
   "metadata": {},
   "source": [
    "\n",
    "\n",
    "\n",
    "\n"
   ]
  },
  {
   "cell_type": "markdown",
   "metadata": {},
   "source": [
    "# Array Creation"
   ]
  },
  {
   "cell_type": "markdown",
   "metadata": {},
   "source": [
    "### Conversion of other Python structures( e.g., lists, tuples) into NumPy Arrays"
   ]
  },
  {
   "cell_type": "markdown",
   "metadata": {},
   "source": [
    "An array-like structure of python can be converted to NumPy array usint array() function."
   ]
  },
  {
   "cell_type": "code",
   "execution_count": 5,
   "metadata": {},
   "outputs": [
    {
     "data": {
      "text/plain": [
       "array([1, 2, 3, 4, 5, 6, 7, 8])"
      ]
     },
     "execution_count": 5,
     "metadata": {},
     "output_type": "execute_result"
    }
   ],
   "source": [
    "x= np.array([1,2,3,4,5,6,7,8])\n",
    "x"
   ]
  },
  {
   "cell_type": "code",
   "execution_count": 6,
   "metadata": {},
   "outputs": [
    {
     "name": "stdout",
     "output_type": "stream",
     "text": [
      "[[1 2 3]\n",
      " [4 5 6]\n",
      " [7 8 9]]\n",
      "datatype is : int32\n",
      "size is : 9\n"
     ]
    }
   ],
   "source": [
    "# From list of different structurs\n",
    "x= np.array([[1,2,3],[4,5,6],(7,8,9)])\n",
    "print(x)\n",
    "print(f\"datatype is : {x.dtype}\")\n",
    "print(f\"size is : {x.size}\")\n"
   ]
  },
  {
   "cell_type": "code",
   "execution_count": 7,
   "metadata": {},
   "outputs": [
    {
     "name": "stdout",
     "output_type": "stream",
     "text": [
      "[1.+0.j 2.+0.j 3.+0.j 4.+0.j 5.+0.j 6.+0.j 2.+3.j 3.+0.j]\n",
      "datatype is : complex128\n",
      "size is : 8\n"
     ]
    }
   ],
   "source": [
    "# From mix of different dtypes including ints, floats, and complex\n",
    "x=np.array([1,2,3.0,4,5,6,2+3j,3.0])\n",
    "print(x)\n",
    "print(f\"datatype is : {x.dtype}\")\n",
    "print(f\"size is : {x.size}\")"
   ]
  },
  {
   "cell_type": "code",
   "execution_count": 8,
   "metadata": {},
   "outputs": [
    {
     "name": "stdout",
     "output_type": "stream",
     "text": [
      "[[1. 2.]\n",
      " [3. 4.]\n",
      " [5. 6.]]\n",
      "datatype is : float64\n",
      "size is : 6\n"
     ]
    }
   ],
   "source": [
    "# From nested list\n",
    "\n",
    "x=np.array([[1.,2],[3,4],[5,6]])\n",
    "print(x)\n",
    "print(f\"datatype is : {x.dtype}\")\n",
    "print(f\"size is : {x.size}\")\n",
    "\n"
   ]
  },
  {
   "cell_type": "markdown",
   "metadata": {},
   "source": [
    "# Intrinsic NumPy Array Creation"
   ]
  },
  {
   "cell_type": "markdown",
   "metadata": {},
   "source": [
    "NumPy comes with some built-in functions for array creation:"
   ]
  },
  {
   "cell_type": "markdown",
   "metadata": {},
   "source": [
    "###### np.zeros(shape, [dtype=float], [order='C'])"
   ]
  },
  {
   "cell_type": "markdown",
   "metadata": {},
   "source": [
    "Return a new array of given shape(int or sequence of ints), type and order('C' for row-major order and 'F' for column-major order), filled with zeros."
   ]
  },
  {
   "cell_type": "code",
   "execution_count": 9,
   "metadata": {},
   "outputs": [
    {
     "data": {
      "text/plain": [
       "array([0., 0., 0., 0., 0.])"
      ]
     },
     "execution_count": 9,
     "metadata": {},
     "output_type": "execute_result"
    }
   ],
   "source": [
    "# create array of 5-zeros\n",
    "\n",
    "x=np.zeros(5)\n",
    "x"
   ]
  },
  {
   "cell_type": "code",
   "execution_count": 11,
   "metadata": {},
   "outputs": [
    {
     "name": "stdout",
     "output_type": "stream",
     "text": [
      "[0 0 0 0 0]\n",
      "[0 0 0 0 0]\n",
      "[[0.+0.j 0.+0.j 0.+0.j]\n",
      " [0.+0.j 0.+0.j 0.+0.j]]\n"
     ]
    }
   ],
   "source": [
    "#create array of 5-zeroes of type int\n",
    "\n",
    "x=np.zeros(5,dtype=int)\n",
    "print(x)\n",
    "\n",
    "x=np.zeros((5,),dtype=int)\n",
    "print(x)\n",
    "\n",
    "#create array of zeroes of type complex and shape 2x3\n",
    "x=np.zeros((2,3),dtype=np.csingle)\n",
    "print(x)"
   ]
  },
  {
   "cell_type": "markdown",
   "metadata": {},
   "source": [
    "##### numpy.ones(shape, dtype=None, order='C')"
   ]
  },
  {
   "cell_type": "markdown",
   "metadata": {},
   "source": [
    "Return a new array of given shape and type, filled with ones."
   ]
  },
  {
   "cell_type": "code",
   "execution_count": 12,
   "metadata": {},
   "outputs": [
    {
     "data": {
      "text/plain": [
       "array([[1., 1., 1.],\n",
       "       [1., 1., 1.]], dtype=float16)"
      ]
     },
     "execution_count": 12,
     "metadata": {},
     "output_type": "execute_result"
    }
   ],
   "source": [
    "x=np.ones((2,3),dtype=np.float16)\n",
    "x"
   ]
  },
  {
   "cell_type": "markdown",
   "metadata": {},
   "source": [
    "##### numpy.arange(([start, ]stop, [step, ]dtype=None)"
   ]
  },
  {
   "cell_type": "markdown",
   "metadata": {},
   "source": [
    "arange() will create arrays with regularly incrementing values.\n",
    "\n",
    "Return evenly spaced values within a given interval [start,stop)  i.e., interval including start but excluding stop.\n",
    "\n",
    "stop : end of the range, this value is excluded. (Check the exceptional case when stop value is included in the range.)\n",
    "\n",
    "For dtype=int, np.arange() and Python built-in function range() behaves similarly, only difference is the return type. numpy.arange() returns ndarray and range() returns a list.\n",
    "\n"
   ]
  },
  {
   "cell_type": "code",
   "execution_count": 19,
   "metadata": {},
   "outputs": [
    {
     "data": {
      "text/plain": [
       "array([0, 1, 2])"
      ]
     },
     "execution_count": 19,
     "metadata": {},
     "output_type": "execute_result"
    }
   ],
   "source": [
    "# start at 0 and stop at 2 acc to [start,stop)\n",
    "np.arange(3)"
   ]
  },
  {
   "cell_type": "code",
   "execution_count": 20,
   "metadata": {},
   "outputs": [
    {
     "data": {
      "text/plain": [
       "array([0., 1., 2.])"
      ]
     },
     "execution_count": 20,
     "metadata": {},
     "output_type": "execute_result"
    }
   ],
   "source": [
    "# start=0 and stop value 3.0 i.e , float arguments\n",
    "np.arange(3.0)"
   ]
  },
  {
   "cell_type": "code",
   "execution_count": 21,
   "metadata": {},
   "outputs": [
    {
     "data": {
      "text/plain": [
       "array([3, 4, 5, 6, 7, 8])"
      ]
     },
     "execution_count": 21,
     "metadata": {},
     "output_type": "execute_result"
    }
   ],
   "source": [
    "# [3,9)\n",
    "np.arange(3,9)"
   ]
  },
  {
   "cell_type": "code",
   "execution_count": 22,
   "metadata": {},
   "outputs": [
    {
     "data": {
      "text/plain": [
       "array([3, 5, 7])"
      ]
     },
     "execution_count": 22,
     "metadata": {},
     "output_type": "execute_result"
    }
   ],
   "source": [
    "# [3,9) and taking two steps forward\n",
    "np.arange(3,9,2)"
   ]
  },
  {
   "cell_type": "code",
   "execution_count": 26,
   "metadata": {},
   "outputs": [
    {
     "data": {
      "text/plain": [
       "array([4. , 4.1, 4.2, 4.3, 4.4, 4.5, 4.6, 4.7, 4.8, 4.9])"
      ]
     },
     "execution_count": 26,
     "metadata": {},
     "output_type": "execute_result"
    }
   ],
   "source": [
    "# with non-integer step\n",
    "np.arange(4,5,0.1)"
   ]
  },
  {
   "cell_type": "code",
   "execution_count": 50,
   "metadata": {},
   "outputs": [
    {
     "data": {
      "text/plain": [
       "array([ 5.  , 16.25, 27.5 , 38.75, 50.  ])"
      ]
     },
     "execution_count": 50,
     "metadata": {},
     "output_type": "execute_result"
    }
   ],
   "source": [
    "np.linspace(5,50,5,True)"
   ]
  }
 ],
 "metadata": {
  "kernelspec": {
   "display_name": "Python 3",
   "language": "python",
   "name": "python3"
  },
  "language_info": {
   "codemirror_mode": {
    "name": "ipython",
    "version": 3
   },
   "file_extension": ".py",
   "mimetype": "text/x-python",
   "name": "python",
   "nbconvert_exporter": "python",
   "pygments_lexer": "ipython3",
   "version": "3.6.8"
  }
 },
 "nbformat": 4,
 "nbformat_minor": 2
}
